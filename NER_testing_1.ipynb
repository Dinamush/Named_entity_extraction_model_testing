{
  "nbformat": 4,
  "nbformat_minor": 0,
  "metadata": {
    "colab": {
      "provenance": []
    },
    "kernelspec": {
      "name": "python3",
      "display_name": "Python 3"
    },
    "language_info": {
      "name": "python"
    }
  },
  "cells": [
    {
      "cell_type": "markdown",
      "source": [
        "# Introduction\n",
        "The purpose of this notebook is to create an environment to measure the accuracy of NER entraction models in order to better fine-tune their performance.\n",
        "\n",
        "Ideal tools for accuracy measure include f1 score testing, and comparison with validation or ground truth sets.\n",
        "\n",
        "## Hypothesis\n",
        "\n",
        "Using evaluation and measuring the accuracy of the NER models will help in fine-tuning new models for more accurate entity extract.\n",
        "\n",
        "## Current Stage\n",
        "\n",
        "The model is able to extract needed information as trained, but has varied success when there is noise or a large volume of text data.\n",
        "\n",
        "### Performance Metrics:\n",
        "- Accuracy score\n",
        "  - using MSE for accuracy $\\text{MSE} = \\frac{1}{n} \\sum_{i=1}^{n} (y_i - \\hat{y}_i)^2$\n",
        "  - Using MAE for accuracy ${MAE} = \\frac{1}{n} \\sum_{i=1}^{n} |y_i - \\hat{y}_i|$\n",
        "  - Direct Token Comparison (Selected as main metric)\n",
        "  - Using metrices such as ROUGE or BLEU scores for text matching\n",
        "- Computation time (tentative)\n",
        "\n",
        "## Ideal Stage\n",
        "\n",
        "Model is able to extract needed information even in large and noisy data."
      ],
      "metadata": {
        "id": "UHfHpx3R-KLw"
      }
    },
    {
      "cell_type": "markdown",
      "source": [],
      "metadata": {
        "id": "ETTnOlt68OhA"
      }
    },
    {
      "cell_type": "code",
      "source": [
        "pip install cohere"
      ],
      "metadata": {
        "colab": {
          "base_uri": "https://localhost:8080/"
        },
        "id": "-OeSbjUpAOaY",
        "outputId": "d8022110-b43b-4b2d-f3bc-7536820c3188"
      },
      "execution_count": null,
      "outputs": [
        {
          "output_type": "stream",
          "name": "stdout",
          "text": [
            "Collecting cohere\n",
            "  Downloading cohere-5.3.2-py3-none-any.whl (150 kB)\n",
            "\u001b[2K     \u001b[90m━━━━━━━━━━━━━━━━━━━━━━━━━━━━━━━━━━━━━━━━\u001b[0m \u001b[32m150.3/150.3 kB\u001b[0m \u001b[31m3.2 MB/s\u001b[0m eta \u001b[36m0:00:00\u001b[0m\n",
            "\u001b[?25hCollecting fastavro<2.0.0,>=1.9.4 (from cohere)\n",
            "  Downloading fastavro-1.9.4-cp310-cp310-manylinux_2_17_x86_64.manylinux2014_x86_64.whl (3.1 MB)\n",
            "\u001b[2K     \u001b[90m━━━━━━━━━━━━━━━━━━━━━━━━━━━━━━━━━━━━━━━━\u001b[0m \u001b[32m3.1/3.1 MB\u001b[0m \u001b[31m11.6 MB/s\u001b[0m eta \u001b[36m0:00:00\u001b[0m\n",
            "\u001b[?25hCollecting httpx>=0.21.2 (from cohere)\n",
            "  Downloading httpx-0.27.0-py3-none-any.whl (75 kB)\n",
            "\u001b[2K     \u001b[90m━━━━━━━━━━━━━━━━━━━━━━━━━━━━━━━━━━━━━━━━\u001b[0m \u001b[32m75.6/75.6 kB\u001b[0m \u001b[31m9.5 MB/s\u001b[0m eta \u001b[36m0:00:00\u001b[0m\n",
            "\u001b[?25hCollecting httpx-sse<0.5.0,>=0.4.0 (from cohere)\n",
            "  Downloading httpx_sse-0.4.0-py3-none-any.whl (7.8 kB)\n",
            "Requirement already satisfied: pydantic>=1.9.2 in /usr/local/lib/python3.10/dist-packages (from cohere) (2.7.0)\n",
            "Requirement already satisfied: requests<3.0.0,>=2.0.0 in /usr/local/lib/python3.10/dist-packages (from cohere) (2.31.0)\n",
            "Requirement already satisfied: tokenizers<0.16.0,>=0.15.2 in /usr/local/lib/python3.10/dist-packages (from cohere) (0.15.2)\n",
            "Collecting types-requests<3.0.0,>=2.0.0 (from cohere)\n",
            "  Downloading types_requests-2.31.0.20240406-py3-none-any.whl (15 kB)\n",
            "Requirement already satisfied: typing_extensions>=4.0.0 in /usr/local/lib/python3.10/dist-packages (from cohere) (4.11.0)\n",
            "Requirement already satisfied: anyio in /usr/local/lib/python3.10/dist-packages (from httpx>=0.21.2->cohere) (3.7.1)\n",
            "Requirement already satisfied: certifi in /usr/local/lib/python3.10/dist-packages (from httpx>=0.21.2->cohere) (2024.2.2)\n",
            "Collecting httpcore==1.* (from httpx>=0.21.2->cohere)\n",
            "  Downloading httpcore-1.0.5-py3-none-any.whl (77 kB)\n",
            "\u001b[2K     \u001b[90m━━━━━━━━━━━━━━━━━━━━━━━━━━━━━━━━━━━━━━━━\u001b[0m \u001b[32m77.9/77.9 kB\u001b[0m \u001b[31m12.5 MB/s\u001b[0m eta \u001b[36m0:00:00\u001b[0m\n",
            "\u001b[?25hRequirement already satisfied: idna in /usr/local/lib/python3.10/dist-packages (from httpx>=0.21.2->cohere) (3.7)\n",
            "Requirement already satisfied: sniffio in /usr/local/lib/python3.10/dist-packages (from httpx>=0.21.2->cohere) (1.3.1)\n",
            "Collecting h11<0.15,>=0.13 (from httpcore==1.*->httpx>=0.21.2->cohere)\n",
            "  Downloading h11-0.14.0-py3-none-any.whl (58 kB)\n",
            "\u001b[2K     \u001b[90m━━━━━━━━━━━━━━━━━━━━━━━━━━━━━━━━━━━━━━━━\u001b[0m \u001b[32m58.3/58.3 kB\u001b[0m \u001b[31m8.5 MB/s\u001b[0m eta \u001b[36m0:00:00\u001b[0m\n",
            "\u001b[?25hRequirement already satisfied: annotated-types>=0.4.0 in /usr/local/lib/python3.10/dist-packages (from pydantic>=1.9.2->cohere) (0.6.0)\n",
            "Requirement already satisfied: pydantic-core==2.18.1 in /usr/local/lib/python3.10/dist-packages (from pydantic>=1.9.2->cohere) (2.18.1)\n",
            "Requirement already satisfied: charset-normalizer<4,>=2 in /usr/local/lib/python3.10/dist-packages (from requests<3.0.0,>=2.0.0->cohere) (3.3.2)\n",
            "Requirement already satisfied: urllib3<3,>=1.21.1 in /usr/local/lib/python3.10/dist-packages (from requests<3.0.0,>=2.0.0->cohere) (2.0.7)\n",
            "Requirement already satisfied: huggingface_hub<1.0,>=0.16.4 in /usr/local/lib/python3.10/dist-packages (from tokenizers<0.16.0,>=0.15.2->cohere) (0.20.3)\n",
            "Requirement already satisfied: filelock in /usr/local/lib/python3.10/dist-packages (from huggingface_hub<1.0,>=0.16.4->tokenizers<0.16.0,>=0.15.2->cohere) (3.13.4)\n",
            "Requirement already satisfied: fsspec>=2023.5.0 in /usr/local/lib/python3.10/dist-packages (from huggingface_hub<1.0,>=0.16.4->tokenizers<0.16.0,>=0.15.2->cohere) (2023.6.0)\n",
            "Requirement already satisfied: tqdm>=4.42.1 in /usr/local/lib/python3.10/dist-packages (from huggingface_hub<1.0,>=0.16.4->tokenizers<0.16.0,>=0.15.2->cohere) (4.66.2)\n",
            "Requirement already satisfied: pyyaml>=5.1 in /usr/local/lib/python3.10/dist-packages (from huggingface_hub<1.0,>=0.16.4->tokenizers<0.16.0,>=0.15.2->cohere) (6.0.1)\n",
            "Requirement already satisfied: packaging>=20.9 in /usr/local/lib/python3.10/dist-packages (from huggingface_hub<1.0,>=0.16.4->tokenizers<0.16.0,>=0.15.2->cohere) (24.0)\n",
            "Requirement already satisfied: exceptiongroup in /usr/local/lib/python3.10/dist-packages (from anyio->httpx>=0.21.2->cohere) (1.2.0)\n",
            "Installing collected packages: types-requests, httpx-sse, h11, fastavro, httpcore, httpx, cohere\n",
            "Successfully installed cohere-5.3.2 fastavro-1.9.4 h11-0.14.0 httpcore-1.0.5 httpx-0.27.0 httpx-sse-0.4.0 types-requests-2.31.0.20240406\n"
          ]
        }
      ]
    },
    {
      "cell_type": "markdown",
      "source": [
        "# API for testing Model Accuracy"
      ],
      "metadata": {
        "id": "3tAcy-CxNT7k"
      }
    },
    {
      "cell_type": "code",
      "source": [
        "import cohere\n",
        "\n",
        "class CoherePrompter:\n",
        "    def __init__(self, client_key, model_key):\n",
        "        self.client_key = client_key\n",
        "        self.model_key = model_key\n",
        "\n",
        "    def retrieve_output_string(self, prompt_str):  # gives text response of extracted information\n",
        "        co = cohere.Client(self.client_key)\n",
        "        response = co.generate(\n",
        "            model=self.model_key,\n",
        "            prompt=prompt_str,\n",
        "            max_tokens=300,\n",
        "            temperature=0.9,\n",
        "            k=0,\n",
        "            stop_sequences=[],\n",
        "            return_likelihoods=\"NONE\",\n",
        "        )\n",
        "\n",
        "        return response.generations[0].text\n",
        "\n",
        "    def give_parsed_output(self, prompt_str):\n",
        "      self.response = self.retrieve_output_string(prompt_str)\n",
        "      pairs = self.response.split(\", \")\n",
        "      parsed_data = {}\n",
        "\n",
        "      for pair in pairs:\n",
        "          key, value = pair.split(\":\")\n",
        "          parsed_data[key.strip()] = value.strip()\n",
        "      return parsed_data\n",
        "\n",
        "    def give_parsed_output_for_df(self, prompt_str):\n",
        "      self.response = self.retrieve_output_string(prompt_str)\n",
        "      pairs = self.response.split(\", \")\n",
        "      parsed_data = {}\n",
        "\n",
        "      for pair in pairs:\n",
        "          key, value = pair.split(\":\")\n",
        "          parsed_data[key.strip()] = [value.strip()]\n",
        "      return parsed_data\n",
        "\n",
        "\n",
        "session_1 = CoherePrompter("", "")\n"
      ],
      "metadata": {
        "id": "YJVclYltA2g-"
      },
      "execution_count": null,
      "outputs": []
    },
    {
      "cell_type": "code",
      "source": [
        "def list_extracted_entities(dataframe, max_rows, index):\n",
        "  #index is whether you want column 0 (prompts) or column 1 (extractions)\n",
        "    values = dataframe.iloc[0:max_rows, index].values\n",
        "    return values\n",
        "\n",
        "list_extracted_entities(csv_files, 20, 1)"
      ],
      "metadata": {
        "id": "J5gkzfN-cUhi"
      },
      "execution_count": null,
      "outputs": []
    },
    {
      "cell_type": "code",
      "source": [
        "# parsing the output into a dictionary\n",
        "\n",
        "parsed_data = session_1.give_parsed_output_for_df(\"i am ellen gopaul. i am going to Japan. i am staying for two weeks and i am 22.\")\n",
        "print(parsed_data)\n"
      ],
      "metadata": {
        "colab": {
          "base_uri": "https://localhost:8080/"
        },
        "id": "1R3m81k-Au1V",
        "outputId": "248d9d69-96e5-4f4d-df0e-a6da7ac9a1ab"
      },
      "execution_count": null,
      "outputs": [
        {
          "output_type": "stream",
          "name": "stdout",
          "text": [
            "{'Name': ['Ellen Gopaul'], 'Age': ['22'], 'Itinerary': [''], 'From': ['Australia'], 'Destination': ['Tokyo'], 'Nationality': ['Australian']}\n"
          ]
        }
      ]
    },
    {
      "cell_type": "code",
      "source": [
        "#Using some pandas to turn it into a dataframe\n",
        "import pandas as pd\n",
        "df = pd.DataFrame(parsed_data)\n",
        "df.head()"
      ],
      "metadata": {
        "colab": {
          "base_uri": "https://localhost:8080/",
          "height": 80
        },
        "id": "eVLG1kdkDKm3",
        "outputId": "1814fae6-3789-49da-e36e-1cc2573e7718"
      },
      "execution_count": null,
      "outputs": [
        {
          "output_type": "execute_result",
          "data": {
            "text/plain": [
              "           Name Age Itinerary       From Destination Nationality\n",
              "0  Ellen Gopaul  22            Australia       Tokyo  Australian"
            ],
            "text/html": [
              "\n",
              "  <div id=\"df-258f9e00-f6f2-486d-9377-3dd80c723971\" class=\"colab-df-container\">\n",
              "    <div>\n",
              "<style scoped>\n",
              "    .dataframe tbody tr th:only-of-type {\n",
              "        vertical-align: middle;\n",
              "    }\n",
              "\n",
              "    .dataframe tbody tr th {\n",
              "        vertical-align: top;\n",
              "    }\n",
              "\n",
              "    .dataframe thead th {\n",
              "        text-align: right;\n",
              "    }\n",
              "</style>\n",
              "<table border=\"1\" class=\"dataframe\">\n",
              "  <thead>\n",
              "    <tr style=\"text-align: right;\">\n",
              "      <th></th>\n",
              "      <th>Name</th>\n",
              "      <th>Age</th>\n",
              "      <th>Itinerary</th>\n",
              "      <th>From</th>\n",
              "      <th>Destination</th>\n",
              "      <th>Nationality</th>\n",
              "    </tr>\n",
              "  </thead>\n",
              "  <tbody>\n",
              "    <tr>\n",
              "      <th>0</th>\n",
              "      <td>Ellen Gopaul</td>\n",
              "      <td>22</td>\n",
              "      <td></td>\n",
              "      <td>Australia</td>\n",
              "      <td>Tokyo</td>\n",
              "      <td>Australian</td>\n",
              "    </tr>\n",
              "  </tbody>\n",
              "</table>\n",
              "</div>\n",
              "    <div class=\"colab-df-buttons\">\n",
              "\n",
              "  <div class=\"colab-df-container\">\n",
              "    <button class=\"colab-df-convert\" onclick=\"convertToInteractive('df-258f9e00-f6f2-486d-9377-3dd80c723971')\"\n",
              "            title=\"Convert this dataframe to an interactive table.\"\n",
              "            style=\"display:none;\">\n",
              "\n",
              "  <svg xmlns=\"http://www.w3.org/2000/svg\" height=\"24px\" viewBox=\"0 -960 960 960\">\n",
              "    <path d=\"M120-120v-720h720v720H120Zm60-500h600v-160H180v160Zm220 220h160v-160H400v160Zm0 220h160v-160H400v160ZM180-400h160v-160H180v160Zm440 0h160v-160H620v160ZM180-180h160v-160H180v160Zm440 0h160v-160H620v160Z\"/>\n",
              "  </svg>\n",
              "    </button>\n",
              "\n",
              "  <style>\n",
              "    .colab-df-container {\n",
              "      display:flex;\n",
              "      gap: 12px;\n",
              "    }\n",
              "\n",
              "    .colab-df-convert {\n",
              "      background-color: #E8F0FE;\n",
              "      border: none;\n",
              "      border-radius: 50%;\n",
              "      cursor: pointer;\n",
              "      display: none;\n",
              "      fill: #1967D2;\n",
              "      height: 32px;\n",
              "      padding: 0 0 0 0;\n",
              "      width: 32px;\n",
              "    }\n",
              "\n",
              "    .colab-df-convert:hover {\n",
              "      background-color: #E2EBFA;\n",
              "      box-shadow: 0px 1px 2px rgba(60, 64, 67, 0.3), 0px 1px 3px 1px rgba(60, 64, 67, 0.15);\n",
              "      fill: #174EA6;\n",
              "    }\n",
              "\n",
              "    .colab-df-buttons div {\n",
              "      margin-bottom: 4px;\n",
              "    }\n",
              "\n",
              "    [theme=dark] .colab-df-convert {\n",
              "      background-color: #3B4455;\n",
              "      fill: #D2E3FC;\n",
              "    }\n",
              "\n",
              "    [theme=dark] .colab-df-convert:hover {\n",
              "      background-color: #434B5C;\n",
              "      box-shadow: 0px 1px 3px 1px rgba(0, 0, 0, 0.15);\n",
              "      filter: drop-shadow(0px 1px 2px rgba(0, 0, 0, 0.3));\n",
              "      fill: #FFFFFF;\n",
              "    }\n",
              "  </style>\n",
              "\n",
              "    <script>\n",
              "      const buttonEl =\n",
              "        document.querySelector('#df-258f9e00-f6f2-486d-9377-3dd80c723971 button.colab-df-convert');\n",
              "      buttonEl.style.display =\n",
              "        google.colab.kernel.accessAllowed ? 'block' : 'none';\n",
              "\n",
              "      async function convertToInteractive(key) {\n",
              "        const element = document.querySelector('#df-258f9e00-f6f2-486d-9377-3dd80c723971');\n",
              "        const dataTable =\n",
              "          await google.colab.kernel.invokeFunction('convertToInteractive',\n",
              "                                                    [key], {});\n",
              "        if (!dataTable) return;\n",
              "\n",
              "        const docLinkHtml = 'Like what you see? Visit the ' +\n",
              "          '<a target=\"_blank\" href=https://colab.research.google.com/notebooks/data_table.ipynb>data table notebook</a>'\n",
              "          + ' to learn more about interactive tables.';\n",
              "        element.innerHTML = '';\n",
              "        dataTable['output_type'] = 'display_data';\n",
              "        await google.colab.output.renderOutput(dataTable, element);\n",
              "        const docLink = document.createElement('div');\n",
              "        docLink.innerHTML = docLinkHtml;\n",
              "        element.appendChild(docLink);\n",
              "      }\n",
              "    </script>\n",
              "  </div>\n",
              "\n",
              "\n",
              "    </div>\n",
              "  </div>\n"
            ],
            "application/vnd.google.colaboratory.intrinsic+json": {
              "type": "dataframe",
              "variable_name": "df",
              "summary": "{\n  \"name\": \"df\",\n  \"rows\": 1,\n  \"fields\": [\n    {\n      \"column\": \"Name\",\n      \"properties\": {\n        \"dtype\": \"string\",\n        \"num_unique_values\": 1,\n        \"samples\": [\n          \"Ellen Gopaul\"\n        ],\n        \"semantic_type\": \"\",\n        \"description\": \"\"\n      }\n    },\n    {\n      \"column\": \"Age\",\n      \"properties\": {\n        \"dtype\": \"string\",\n        \"num_unique_values\": 1,\n        \"samples\": [\n          \"22\"\n        ],\n        \"semantic_type\": \"\",\n        \"description\": \"\"\n      }\n    },\n    {\n      \"column\": \"Itinerary\",\n      \"properties\": {\n        \"dtype\": \"object\",\n        \"num_unique_values\": 1,\n        \"samples\": [\n          \"\"\n        ],\n        \"semantic_type\": \"\",\n        \"description\": \"\"\n      }\n    },\n    {\n      \"column\": \"From\",\n      \"properties\": {\n        \"dtype\": \"string\",\n        \"num_unique_values\": 1,\n        \"samples\": [\n          \"Australia\"\n        ],\n        \"semantic_type\": \"\",\n        \"description\": \"\"\n      }\n    },\n    {\n      \"column\": \"Destination\",\n      \"properties\": {\n        \"dtype\": \"string\",\n        \"num_unique_values\": 1,\n        \"samples\": [\n          \"Tokyo\"\n        ],\n        \"semantic_type\": \"\",\n        \"description\": \"\"\n      }\n    },\n    {\n      \"column\": \"Nationality\",\n      \"properties\": {\n        \"dtype\": \"string\",\n        \"num_unique_values\": 1,\n        \"samples\": [\n          \"Australian\"\n        ],\n        \"semantic_type\": \"\",\n        \"description\": \"\"\n      }\n    }\n  ]\n}"
            }
          },
          "metadata": {},
          "execution_count": 5
        }
      ]
    },
    {
      "cell_type": "markdown",
      "source": [
        "## Testing Accuracy using ground truths as reference\n",
        "Test 1:\n",
        "Using direct comparison tokenization for accuracy comparison.\n",
        "* Pros: Easy to implement, computationally light.\n",
        "* Cons: Doesn't account for similar words or spaces"
      ],
      "metadata": {
        "id": "9qKHh_q3e8da"
      }
    },
    {
      "cell_type": "code",
      "source": [
        "def calculate_accuracy(ground_truth, model_output):\n",
        "    # Tokenize ground truth and model output\n",
        "    ground_truth_tokens = [token.strip() for token in ground_truth.split(\",\")]\n",
        "    model_output_tokens = [token.strip() for token in model_output.split(\",\")]\n",
        "    # Initialize variables to count correct tokens\n",
        "    correct_tokens = 0\n",
        "    total_tokens = max(len(ground_truth_tokens), len(model_output_tokens))\n",
        "    # Compare each token\n",
        "    for gt_token, model_token in zip(ground_truth_tokens, model_output_tokens):\n",
        "        if gt_token == model_token:\n",
        "            correct_tokens += 1\n",
        "    # Calculate accuracy\n",
        "    accuracy = correct_tokens / total_tokens\n",
        "    return accuracy\n",
        "\n",
        "# Example usage\n",
        "ground_truth = \"Name:Luca Rossi, Age:30 , Itinerary:3456, From:Italy, Destination: Rio de Janeiro, Nationality:Italian , Length of Stay:2 weeks\"\n",
        "model_output = \"Name:Luca Rossi, Age:30 , Itinerary:3456, From:Italy, Destination: Rio de Janeiro, Nationality:Italian , Length of Stay:two weeks\"\n",
        "\n",
        "accuracy = calculate_accuracy(ground_truth, model_output)\n",
        "print(\"Accuracy:\", accuracy)\n"
      ],
      "metadata": {
        "colab": {
          "base_uri": "https://localhost:8080/"
        },
        "id": "pb227kNse6rr",
        "outputId": "cec8ca38-b741-44db-9315-6e397035836c"
      },
      "execution_count": null,
      "outputs": [
        {
          "output_type": "stream",
          "name": "stdout",
          "text": [
            "Accuracy: 0.8571428571428571\n"
          ]
        }
      ]
    },
    {
      "cell_type": "code",
      "source": [
        "import numpy as np\n",
        "import pandas as pd\n",
        "import matplotlib.pyplot as plt\n",
        "import seaborn as sns\n",
        "import time\n",
        "\n",
        "def calculate_accuracy_of_slots(client_key: str, model_key: str, dataframe, sample_size: int):\n",
        "\n",
        "    session_2 = CoherePrompter(client_key=client_key, model_key=model_key)\n",
        "\n",
        "    prompt_list = list_extracted_entities(dataframe, sample_size, 0)  # Gives prompts in the form of a dataframe\n",
        "    extracted_list = list_extracted_entities(dataframe, sample_size, 1)  # Gives extracted information in the form of a dataframe\n",
        "\n",
        "    accuracy_list = []\n",
        "    iteration_counter = 0\n",
        "\n",
        "    for prompt, extracted in zip(prompt_list, extracted_list):\n",
        "\n",
        "        entities_extracted_from_prompt = session_2.retrieve_output_string(prompt)  # This gives output in the form of a dictionary that needs to be parsed into respective variables. Could use a dataframe or a numpy array\n",
        "        iteration_counter += 1\n",
        "\n",
        "        if (iteration_counter % 5 == 0) and (iteration_counter != sample_size):\n",
        "            time.sleep(60)\n",
        "\n",
        "        dataframe_api_extracted = pd.DataFrame(output_parser(entities_extracted_from_prompt))\n",
        "        dataframe_actual_entities = pd.DataFrame(output_parser(extracted))\n",
        "\n",
        "        slot_accuracy_list = []\n",
        "\n",
        "        for column in dataframe_actual_entities.columns:\n",
        "            if column in dataframe_api_extracted.columns:\n",
        "                # Compare the corresponding columns if they exist in both dataframes\n",
        "                column_accuracy = (dataframe_api_extracted[column] == dataframe_actual_entities[column]).astype(int)\n",
        "            else:\n",
        "                # Create a placeholder Series with 0s and the missing column name\n",
        "                missing_column_placeholder = pd.Series(np.zeros_like(dataframe_actual_entities[column], dtype=int), index=dataframe_actual_entities.index, name=column)\n",
        "                column_accuracy = missing_column_placeholder\n",
        "            slot_accuracy_list.append(column_accuracy)\n",
        "\n",
        "        # Concatenate accuracy for each column along axis 1\n",
        "        slot_accuracy = pd.concat(slot_accuracy_list, axis=1)\n",
        "\n",
        "        # Append to the accuracy list\n",
        "        accuracy_list.append(slot_accuracy)\n",
        "\n",
        "    # Concatenate accuracy dataframes along axis 0\n",
        "    accuracy_df = pd.concat(accuracy_list, axis=0)\n",
        "\n",
        "    # Calculate column averages\n",
        "    column_averages = accuracy_df.mean()\n",
        "    # Calculate standard deviation\n",
        "    column_std_dev = accuracy_df.std()\n",
        "    # Calculate variance\n",
        "    column_variance = accuracy_df.var()\n",
        "\n",
        "    # Convert the averages to a tuple\n",
        "    averages_tuple = tuple(column_averages)\n",
        "\n",
        "    # Plot barplot and boxplot\n",
        "    fig, ax = plt.subplots(2, 1, figsize=(10, 10))\n",
        "\n",
        "    # Barplot with values labeled on bars\n",
        "    sns.barplot(x=column_averages.index, y=column_averages.values, ax=ax[0])\n",
        "    for i, v in enumerate(column_averages.values):\n",
        "        ax[0].text(i, v, f'{v:.2f}', ha='center', va='bottom')\n",
        "    ax[0].set_xticklabels(ax[0].get_xticklabels(), rotation=45)  # Rotate x-labels by 45 degrees\n",
        "    ax[0].set_ylabel(\"Accuracy %\")\n",
        "    ax[0].set_xlabel(\"Slot\")\n",
        "\n",
        "    # Boxplot with standard deviation and variance\n",
        "    sns.boxplot(data=accuracy_df, ax=ax[1])\n",
        "    ax[1].set_ylabel(\"Accuracy\")\n",
        "    ax[1].set_xlabel(\"Slot\")\n",
        "    ax[1].text(0.95, 0.9, f'Standard Deviation: {column_std_dev.values[0]:.2f}\\nVariance: {column_variance.values[0]:.2f}', horizontalalignment='right', verticalalignment='top', transform=ax[1].transAxes)\n",
        "\n",
        "    plt.show()\n",
        "\n",
        "    return averages_tuple\n",
        "\n",
        "calculate_accuracy_of_slots(client_key=\"xtaFZSuwT7UTPu8Rq6gkPf0CcFlcazV5CKcCJqIT\", model_key=\"0e1f91da-726c-4c40-9e0b-a2874cac2cb8-ft\", dataframe=csv_files, sample_size=4)\n"
      ],
      "metadata": {
        "colab": {
          "base_uri": "https://localhost:8080/",
          "height": 902
        },
        "id": "A5fwXbEHvieC",
        "outputId": "53208767-6568-4346-c9c3-cd813e2f0f34"
      },
      "execution_count": null,
      "outputs": [
        {
          "output_type": "stream",
          "name": "stderr",
          "text": [
            "<ipython-input-10-785dc42d77ae>:66: UserWarning: FixedFormatter should only be used together with FixedLocator\n",
            "  ax[0].set_xticklabels(ax[0].get_xticklabels(), rotation=45)  # Rotate x-labels by 45 degrees\n"
          ]
        },
        {
          "output_type": "display_data",
          "data": {
            "text/plain": [
              "<Figure size 1000x1000 with 2 Axes>"
            ],
            "image/png": "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\n"
          },
          "metadata": {}
        },
        {
          "output_type": "execute_result",
          "data": {
            "text/plain": [
              "(0.75, 1.0, 1.0, 0.75, 0.75, 1.0, 0.75)"
            ]
          },
          "metadata": {},
          "execution_count": 10
        }
      ]
    },
    {
      "cell_type": "code",
      "source": [
        "def tester(dataframe_1, dataframe_extracted1):\n",
        "    slot_accuracy_list = []\n",
        "    for column in dataframe_1.columns:\n",
        "        if column in dataframe_extracted1.columns:\n",
        "            # Compare the corresponding columns if they exist in both dataframes\n",
        "            column_accuracy = (dataframe_extracted1[column] == dataframe_1[column]).astype(int)\n",
        "        else:\n",
        "            # Default accuracy to 0 if the column doesn't exist in dataframe_api_extracted\n",
        "            missing_column_placeholder = pd.Series(np.zeros_like(dataframe_1[column], dtype=int), index=dataframe_1.index, name=column)\n",
        "            column_accuracy = missing_column_placeholder\n",
        "        slot_accuracy_list.append(column_accuracy)\n",
        "    return slot_accuracy_list\n",
        "\n",
        "test_1 = pd.DataFrame(output_parser(\"Name:Sarah Patel, Age:35 , Itinerary:2392, From:United Kingdom, Destination: New York, Nationality:British , Length of Stay:4 days\"))\n",
        "test_2 = pd.DataFrame(output_parser(\"Name:Sarah Patel, Age:35 , Itinerary:2392, From:United Kingdom, Destination: New , Nationality:British, Length of Stay:4 days\"))\n",
        "\n",
        "tester(test_1, test_2)\n"
      ],
      "metadata": {
        "colab": {
          "base_uri": "https://localhost:8080/"
        },
        "id": "eJ09vD1TafqU",
        "outputId": "125928a4-84c8-4a91-be35-7e0fa919186b"
      },
      "execution_count": null,
      "outputs": [
        {
          "output_type": "execute_result",
          "data": {
            "text/plain": [
              "[0    1\n",
              " Name: Name, dtype: int64,\n",
              " 0    1\n",
              " Name: Age, dtype: int64,\n",
              " 0    1\n",
              " Name: Itinerary, dtype: int64,\n",
              " 0    1\n",
              " Name: From, dtype: int64,\n",
              " 0    0\n",
              " Name: Destination, dtype: int64,\n",
              " 0    1\n",
              " Name: Nationality, dtype: int64,\n",
              " 0    1\n",
              " Name: Length of Stay, dtype: int64]"
            ]
          },
          "metadata": {},
          "execution_count": 55
        }
      ]
    },
    {
      "cell_type": "code",
      "source": [
        "#now we need it for multiple epochs, with visualizations for statistical analysis\n",
        "import time\n",
        "\n",
        "def calculate_accuracy_of_slots_mult_epochs(client_key:str, model_key:str, dataframe, sample_size:int, epochs):\n",
        "\n",
        "  tuple_list = []\n",
        "  for epoch in range(epochs):\n",
        "\n",
        "    tuple_accuracy = calculate_accuracy_of_slots(client_key=\"xtaFZSuwT7UTPu8Rq6gkPf0CcFlcazV5CKcCJqIT\", model_key=\"0e1f91da-726c-4c40-9e0b-a2874cac2cb8-ft\", dataframe=csv_files,sample_size=86)\n",
        "    tuple_list.append(tuple_accuracy)\n",
        "\n",
        "  return tuple_list\n",
        "\n",
        "calculate_accuracy_of_slots_mult_epochs(client_key=\"xtaFZSuwT7UTPu8Rq6gkPf0CcFlcazV5CKcCJqIT\", model_key=\"0e1f91da-726c-4c40-9e0b-a2874cac2cb8-ft\", dataframe=csv_files,sample_size=86, epochs=1)\n",
        "\n",
        "\n"
      ],
      "metadata": {
        "colab": {
          "base_uri": "https://localhost:8080/",
          "height": 1000
        },
        "id": "Y16rOJ1EKxgQ",
        "outputId": "fb4ff7bd-5feb-40db-deff-11a725eda4d6"
      },
      "execution_count": null,
      "outputs": [
        {
          "output_type": "stream",
          "name": "stderr",
          "text": [
            "<ipython-input-10-785dc42d77ae>:66: UserWarning: FixedFormatter should only be used together with FixedLocator\n",
            "  ax[0].set_xticklabels(ax[0].get_xticklabels(), rotation=45)  # Rotate x-labels by 45 degrees\n"
          ]
        },
        {
          "output_type": "display_data",
          "data": {
            "text/plain": [
              "<Figure size 1000x1000 with 2 Axes>"
            ],
            "image/png": "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\n"
          },
          "metadata": {}
        },
        {
          "output_type": "execute_result",
          "data": {
            "text/plain": [
              "[(0.9882352941176471,\n",
              "  1.0,\n",
              "  1.0,\n",
              "  0.9529411764705882,\n",
              "  0.9529411764705882,\n",
              "  0.9882352941176471,\n",
              "  0.9647058823529412)]"
            ]
          },
          "metadata": {},
          "execution_count": 12
        }
      ]
    },
    {
      "cell_type": "code",
      "source": [
        "import numpy as np\n",
        "import matplotlib.pyplot as plt\n",
        "import seaborn as sns\n",
        "import time\n",
        "\n",
        "def calculate_accuracy_of_slots_mult_epochs(client_key:str, model_key:str, dataframe, sample_size:int, epochs):\n",
        "    tuple_list = []\n",
        "    for epoch in range(epochs):\n",
        "        tuple_accuracy = calculate_accuracy_of_slots(client_key=client_key, model_key=model_key, dataframe=dataframe, sample_size=sample_size)\n",
        "        tuple_list.append(tuple_accuracy)\n",
        "        if epoch % 5 == 0 and epoch != 0:\n",
        "            time.sleep(60)  # Add a sleep period to avoid rate limiting or server overload issues\n",
        "    return tuple_list\n",
        "\n",
        "def plot_accuracy_over_epochs(tuple_list):\n",
        "    # Convert list of tuples to a numpy array\n",
        "    accuracy_array = np.array(tuple_list)\n",
        "    # Create a figure and axis objects\n",
        "    fig, ax = plt.subplots(figsize=(10, 6))\n",
        "    # Plot the accuracy for each slot over epochs\n",
        "    for i in range(accuracy_array.shape[1]):\n",
        "        sns.lineplot(x=np.arange(1, accuracy_array.shape[0] + 1), y=accuracy_array[:, i], label=f'Slot {i+1}', ax=ax)\n",
        "    ax.set_xlabel('Epochs')\n",
        "    ax.set_ylabel('Accuracy')\n",
        "    ax.set_title('Accuracy of Slots over Epochs')\n",
        "    ax.legend()\n",
        "    plt.show()\n",
        "\n",
        "# Example usage\n",
        "tuple_list = calculate_accuracy_of_slots_mult_epochs(client_key=\"xtaFZSuwT7UTPu8Rq6gkPf0CcFlcazV5CKcCJqIT\",\n",
        "                                                     model_key=\"0e1f91da-726c-4c40-9e0b-a2874cac2cb8-ft\",\n",
        "                                                     dataframe=csv_files, sample_size=86, epochs=1)\n",
        "\n",
        "plot_accuracy_over_epochs(tuple_list)\n"
      ],
      "metadata": {
        "id": "U4R3TrQEQ1q4"
      },
      "execution_count": null,
      "outputs": []
    },
    {
      "cell_type": "markdown",
      "source": [
        "---\n"
      ],
      "metadata": {
        "id": "TSZ2WnItxVl8"
      }
    },
    {
      "cell_type": "markdown",
      "source": [
        "Test 2: Using ROUGE (f1) Scores\n",
        "* Pros: Accounts for similarity in numerical and alphabetical characters\n",
        "* Cons: Generalises average accuracy for string output, and doesn't identify mismatches in slots (fields)"
      ],
      "metadata": {
        "id": "cvT0RST0iSDB"
      }
    },
    {
      "cell_type": "code",
      "source": [
        "pip install rouge"
      ],
      "metadata": {
        "colab": {
          "base_uri": "https://localhost:8080/"
        },
        "id": "lpJBqTfNiZ2Q",
        "outputId": "91e09a52-0a15-4eb7-b7df-3fbf44056320"
      },
      "execution_count": null,
      "outputs": [
        {
          "output_type": "stream",
          "name": "stdout",
          "text": [
            "Collecting rouge\n",
            "  Downloading rouge-1.0.1-py3-none-any.whl (13 kB)\n",
            "Requirement already satisfied: six in /usr/local/lib/python3.10/dist-packages (from rouge) (1.16.0)\n",
            "Installing collected packages: rouge\n",
            "Successfully installed rouge-1.0.1\n"
          ]
        }
      ]
    },
    {
      "cell_type": "code",
      "source": [
        "from rouge import Rouge\n",
        "\n",
        "def calculate_rouge(ground_truth, model_output):\n",
        "    rouge = Rouge()\n",
        "    scores = rouge.get_scores(ground_truth, model_output)\n",
        "    return scores\n",
        "\n",
        "rouge_scores = calculate_rouge(ground_truth, model_output)\n",
        "print(\"ROUGE Scores:\", rouge_scores)\n",
        "# appears to be more accurate when comparing relative to direct token comparison"
      ],
      "metadata": {
        "colab": {
          "base_uri": "https://localhost:8080/"
        },
        "id": "HrUmoCE2iV2o",
        "outputId": "aa1c1d60-e9ee-49a6-e30f-d72f635c7243"
      },
      "execution_count": null,
      "outputs": [
        {
          "output_type": "stream",
          "name": "stdout",
          "text": [
            "ROUGE Scores: [{'rouge-1': {'r': 0.9333333333333333, 'p': 0.9333333333333333, 'f': 0.9333333283333335}, 'rouge-2': {'r': 0.8666666666666667, 'p': 0.8666666666666667, 'f': 0.8666666616666667}, 'rouge-l': {'r': 0.9333333333333333, 'p': 0.9333333333333333, 'f': 0.9333333283333335}}]\n"
          ]
        }
      ]
    },
    {
      "cell_type": "code",
      "source": [
        "def calculate_accuracy(extracted_entity_list, ground_truth_list, rouge_metric='rouge-1'):\n",
        "    accuracy_scores = []\n",
        "\n",
        "    for model_value, ground_value in zip(extracted_entity_list, ground_truth_list):\n",
        "        rouge_scores = calculate_rouge(ground_value, model_value)\n",
        "        accuracy = rouge_scores[0][rouge_metric]['f']  # using f1 score\n",
        "        accuracy_scores.append(accuracy)\n",
        "\n",
        "    average_accuracy = sum(accuracy_scores) / len(accuracy_scores)\n",
        "    return average_accuracy\n",
        "\n",
        "# test run\n",
        "calculate_accuracy(list_extracted_entities(csv_files, 20, 1) ,list_extracted_entities(csv_files, 20, 1))\n",
        "# performs as intended on identical dataset"
      ],
      "metadata": {
        "colab": {
          "base_uri": "https://localhost:8080/"
        },
        "id": "Bs9ggfghl6eX",
        "outputId": "17462db2-787a-408b-8e8a-002e1eac82ac"
      },
      "execution_count": null,
      "outputs": [
        {
          "output_type": "execute_result",
          "data": {
            "text/plain": [
              "0.9999999949999998"
            ]
          },
          "metadata": {},
          "execution_count": 14
        }
      ]
    },
    {
      "cell_type": "markdown",
      "source": [
        "Now we need to do it with the API call to collect the extracted entities"
      ],
      "metadata": {
        "id": "Af87ev917a5l"
      }
    },
    {
      "cell_type": "code",
      "source": [
        "def compute_model_accuracy(client_key:str, model_key:str, dataframe, sample_size:int, rouge_metric='rouge-1'):\n",
        "  accuracy_scores = []\n",
        "  session_2 = CoherePrompter(client_key=\"xtaFZSuwT7UTPu8Rq6gkPf0CcFlcazV5CKcCJqIT\", model_key=\"0e1f91da-726c-4c40-9e0b-a2874cac2cb8-ft\")\n",
        "\n",
        "\n",
        "  prompt_list = list_extracted_entities(dataframe, sample_size, 0) #gives prompts in the form of a dataframe\n",
        "\n",
        "  extracted_list = list_extracted_entities(dataframe, sample_size, 1) #gives extracted information in the form of a dataframe\n",
        "\n",
        "  for prompt, extracted in zip(prompt_list, extracted_list):\n",
        "    entities_extracted_from_prompt = session_2.retrieve_output_string(prompt)\n",
        "    print(prompt)\n",
        "    print(entities_extracted_from_prompt)\n",
        "\n",
        "    actual_entities = extracted\n",
        "    print(actual_entities)\n",
        "\n",
        "    #calculating the rouge_scores\n",
        "    rouge_scores = calculate_rouge(entities_extracted_from_prompt, actual_entities)\n",
        "    accuracy = rouge_scores[0][rouge_metric]['f']  # using f1 score\n",
        "    accuracy_scores.append(accuracy)\n",
        "\n",
        "  average_accuracy = sum(accuracy_scores) / len(accuracy_scores)\n",
        "  return average_accuracy\n",
        "\n",
        "ner_model_score = compute_model_accuracy(client_key=\"xtaFZSuwT7UTPu8Rq6gkPf0CcFlcazV5CKcCJqIT\", model_key=\"0e1f91da-726c-4c40-9e0b-a2874cac2cb8-ft\",dataframe=csv_files,sample_size= 5)\n",
        "print(f\"The average accuracy of the model is {ner_model_score}\")"
      ],
      "metadata": {
        "id": "JBJ2yjJT6pb9"
      },
      "execution_count": null,
      "outputs": []
    },
    {
      "cell_type": "code",
      "source": [
        "import time\n",
        "import matplotlib.pyplot as plt\n",
        "\n",
        "def compute_model_accuracy_delayed(client_key: str, model_key: str, dataframe, sample_size: int, rouge_metric='rouge-1'):\n",
        "    accuracy_scores = []\n",
        "    timed_list = []\n",
        "    session_2 = CoherePrompter(client_key=client_key, model_key=model_key)\n",
        "\n",
        "    prompt_list = list_extracted_entities(dataframe, sample_size, 0)\n",
        "    extracted_list = list_extracted_entities(dataframe, sample_size, 1)\n",
        "    call_number = 0\n",
        "    iteration_number = 0\n",
        "    for prompt, extracted in zip(prompt_list, extracted_list):\n",
        "        entities_extracted_from_prompt = session_2.retrieve_output_string(prompt)\n",
        "        actual_entities = extracted\n",
        "        rouge_scores = calculate_rouge(entities_extracted_from_prompt, actual_entities)\n",
        "        accuracy = rouge_scores[0][rouge_metric]['f']\n",
        "        accuracy_scores.append(accuracy)\n",
        "\n",
        "        iteration_number += 1\n",
        "        timed_list.append(iteration_number)\n",
        "\n",
        "        call_number += 1\n",
        "        # Introduce a delay after each API call\n",
        "        if (call_number % 5 == 0 and call_number != sample_size):\n",
        "            time.sleep(60)  # 60 seconds delay for 5 API calls per minute\n",
        "\n",
        "    average_accuracy = sum(accuracy_scores) / len(accuracy_scores)\n",
        "    plt.scatter(timed_list, accuracy_scores)\n",
        "    plt.xlabel('Iteration')\n",
        "    plt.ylabel('Accuracy Score')\n",
        "    plt.title('Accuracy Score over Iterations')\n",
        "    plt.show()\n",
        "\n",
        "    return average_accuracy\n",
        "\n",
        "ner_model_score = compute_model_accuracy_delayed(client_key=\"xtaFZSuwT7UTPu8Rq6gkPf0CcFlcazV5CKcCJqIT\", model_key=\"0e1f91da-726c-4c40-9e0b-a2874cac2cb8-ft\", dataframe=csv_files, sample_size=86)\n",
        "print(f\"The average accuracy of the model is {ner_model_score}\")\n"
      ],
      "metadata": {
        "colab": {
          "base_uri": "https://localhost:8080/",
          "height": 489
        },
        "id": "cEcEQkzgSTlw",
        "outputId": "f4d2d386-bb77-4a16-fac4-a6bfab0206bf"
      },
      "execution_count": null,
      "outputs": [
        {
          "output_type": "display_data",
          "data": {
            "text/plain": [
              "<Figure size 640x480 with 1 Axes>"
            ],
            "image/png": "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\n"
          },
          "metadata": {}
        },
        {
          "output_type": "stream",
          "name": "stdout",
          "text": [
            "The average accuracy of the model is 0.977436290459902\n"
          ]
        }
      ]
    },
    {
      "cell_type": "code",
      "source": [
        "def average_model_accuracy(client_key: str, model_key: str, dataframe, sample_size: int, epoch_number: int, rouge_metric='rouge-1'):\n",
        "    accuracy_list = []\n",
        "    for epoch in range(epoch_number):\n",
        "        accuracy_score = compute_model_accuracy(client_key, model_key, dataframe, sample_size, rouge_metric)\n",
        "        accuracy_list.append(accuracy_score)\n",
        "    return sum(accuracy_list) / len(accuracy_list)\n",
        "\n",
        "\n",
        "average_accuracy = average_model_accuracy(client_key=\"xtaFZSuwT7UTPu8Rq6gkPf0CcFlcazV5CKcCJqIT\", model_key=\"0e1f91da-726c-4c40-9e0b-a2874cac2cb8-ft\", dataframe=csv_files, sample_size=5, epoch_number=4)\n",
        "print(f\"The average accuracy of the model over 4 epochs is {average_accuracy}\")\n"
      ],
      "metadata": {
        "id": "WBoj7mU2oXV1"
      },
      "execution_count": null,
      "outputs": []
    },
    {
      "cell_type": "code",
      "source": [
        "import time\n",
        "\n",
        "def average_model_accuracy(client_key: str, model_key: str, dataframe, sample_size: int, epoch_number: int, rouge_metric='rouge-1', delay_seconds=60):\n",
        "    accuracy_list = []\n",
        "    for epoch in range(epoch_number):\n",
        "        accuracy_score = compute_model_accuracy(client_key, model_key, dataframe, sample_size, rouge_metric)\n",
        "        accuracy_list.append(accuracy_score)\n",
        "        if epoch < epoch_number - 1:  # Skip delay after the last epoch\n",
        "            time.sleep(delay_seconds)  # Introduce a delay between epochs\n",
        "    return sum(accuracy_list) / len(accuracy_list)\n",
        "\n",
        "average_accuracy = average_model_accuracy(client_key=\"xtaFZSuwT7UTPu8Rq6gkPf0CcFlcazV5CKcCJqIT\", model_key=\"0e1f91da-726c-4c40-9e0b-a2874cac2cb8-ft\", dataframe=csv_files, sample_size=5, epoch_number=2)\n",
        "print(f\"The average accuracy of the model over 4 epochs is {average_accuracy}\")\n"
      ],
      "metadata": {
        "id": "4GeByqLKPXIn"
      },
      "execution_count": null,
      "outputs": []
    },
    {
      "cell_type": "markdown",
      "source": [
        "# Assorting Training Data and Tabular Storage of entries"
      ],
      "metadata": {
        "id": "FtWzmj9INYXe"
      }
    },
    {
      "cell_type": "code",
      "source": [
        "from google.colab import drive\n",
        "import pandas as pd\n",
        "\n",
        "csv_files = pd.read_csv('/content/drive/MyDrive/Colab Notebooks/csvresult2.csv')\n",
        "csv_files.head()"
      ],
      "metadata": {
        "colab": {
          "base_uri": "https://localhost:8080/",
          "height": 223
        },
        "id": "bxzSZJHdEGlL",
        "outputId": "d41e7ed8-4a16-4d9a-a301-d7353251952f"
      },
      "execution_count": null,
      "outputs": [
        {
          "output_type": "execute_result",
          "data": {
            "text/plain": [
              "  My name is John Stone, I am coming from New York to Timehri airport.  \\\n",
              "0  Sure thing. I am 27, my itinerary is 1234, I a...                     \n",
              "1               Good afternoon, my name is Jane Doe.                     \n",
              "2  Sure thing, my age is 19, my itinerary is 2190...                     \n",
              "3               I am traveling from London to Paris.                     \n",
              "4  Absolutely, I am 35 years old, my itinerary nu...                     \n",
              "\n",
              "  Name: John Stone, Age: , Itinerary: , From: New York, Destination: Timehri, Nationality: , Length of Stay:   \n",
              "0  Name: John Stone, Age: 27, Itinerary: 1234, Fr...                                                           \n",
              "1  Name: Jane Doe, Age: , Itinerary: , From: , De...                                                           \n",
              "2  Name: Jane Doe, Age: 19, Itinerary: 2190, From...                                                           \n",
              "3  Name: , Age: , Itinerary: , From: London, Dest...                                                           \n",
              "4  Name: , Age: 35, Itinerary: 5678, From: London...                                                           "
            ],
            "text/html": [
              "\n",
              "  <div id=\"df-0bdaab0f-fc1a-4d18-94bd-855c597190c3\" class=\"colab-df-container\">\n",
              "    <div>\n",
              "<style scoped>\n",
              "    .dataframe tbody tr th:only-of-type {\n",
              "        vertical-align: middle;\n",
              "    }\n",
              "\n",
              "    .dataframe tbody tr th {\n",
              "        vertical-align: top;\n",
              "    }\n",
              "\n",
              "    .dataframe thead th {\n",
              "        text-align: right;\n",
              "    }\n",
              "</style>\n",
              "<table border=\"1\" class=\"dataframe\">\n",
              "  <thead>\n",
              "    <tr style=\"text-align: right;\">\n",
              "      <th></th>\n",
              "      <th>My name is John Stone, I am coming from New York to Timehri airport.</th>\n",
              "      <th>Name: John Stone, Age: , Itinerary: , From: New York, Destination: Timehri, Nationality: , Length of Stay:</th>\n",
              "    </tr>\n",
              "  </thead>\n",
              "  <tbody>\n",
              "    <tr>\n",
              "      <th>0</th>\n",
              "      <td>Sure thing. I am 27, my itinerary is 1234, I a...</td>\n",
              "      <td>Name: John Stone, Age: 27, Itinerary: 1234, Fr...</td>\n",
              "    </tr>\n",
              "    <tr>\n",
              "      <th>1</th>\n",
              "      <td>Good afternoon, my name is Jane Doe.</td>\n",
              "      <td>Name: Jane Doe, Age: , Itinerary: , From: , De...</td>\n",
              "    </tr>\n",
              "    <tr>\n",
              "      <th>2</th>\n",
              "      <td>Sure thing, my age is 19, my itinerary is 2190...</td>\n",
              "      <td>Name: Jane Doe, Age: 19, Itinerary: 2190, From...</td>\n",
              "    </tr>\n",
              "    <tr>\n",
              "      <th>3</th>\n",
              "      <td>I am traveling from London to Paris.</td>\n",
              "      <td>Name: , Age: , Itinerary: , From: London, Dest...</td>\n",
              "    </tr>\n",
              "    <tr>\n",
              "      <th>4</th>\n",
              "      <td>Absolutely, I am 35 years old, my itinerary nu...</td>\n",
              "      <td>Name: , Age: 35, Itinerary: 5678, From: London...</td>\n",
              "    </tr>\n",
              "  </tbody>\n",
              "</table>\n",
              "</div>\n",
              "    <div class=\"colab-df-buttons\">\n",
              "\n",
              "  <div class=\"colab-df-container\">\n",
              "    <button class=\"colab-df-convert\" onclick=\"convertToInteractive('df-0bdaab0f-fc1a-4d18-94bd-855c597190c3')\"\n",
              "            title=\"Convert this dataframe to an interactive table.\"\n",
              "            style=\"display:none;\">\n",
              "\n",
              "  <svg xmlns=\"http://www.w3.org/2000/svg\" height=\"24px\" viewBox=\"0 -960 960 960\">\n",
              "    <path d=\"M120-120v-720h720v720H120Zm60-500h600v-160H180v160Zm220 220h160v-160H400v160Zm0 220h160v-160H400v160ZM180-400h160v-160H180v160Zm440 0h160v-160H620v160ZM180-180h160v-160H180v160Zm440 0h160v-160H620v160Z\"/>\n",
              "  </svg>\n",
              "    </button>\n",
              "\n",
              "  <style>\n",
              "    .colab-df-container {\n",
              "      display:flex;\n",
              "      gap: 12px;\n",
              "    }\n",
              "\n",
              "    .colab-df-convert {\n",
              "      background-color: #E8F0FE;\n",
              "      border: none;\n",
              "      border-radius: 50%;\n",
              "      cursor: pointer;\n",
              "      display: none;\n",
              "      fill: #1967D2;\n",
              "      height: 32px;\n",
              "      padding: 0 0 0 0;\n",
              "      width: 32px;\n",
              "    }\n",
              "\n",
              "    .colab-df-convert:hover {\n",
              "      background-color: #E2EBFA;\n",
              "      box-shadow: 0px 1px 2px rgba(60, 64, 67, 0.3), 0px 1px 3px 1px rgba(60, 64, 67, 0.15);\n",
              "      fill: #174EA6;\n",
              "    }\n",
              "\n",
              "    .colab-df-buttons div {\n",
              "      margin-bottom: 4px;\n",
              "    }\n",
              "\n",
              "    [theme=dark] .colab-df-convert {\n",
              "      background-color: #3B4455;\n",
              "      fill: #D2E3FC;\n",
              "    }\n",
              "\n",
              "    [theme=dark] .colab-df-convert:hover {\n",
              "      background-color: #434B5C;\n",
              "      box-shadow: 0px 1px 3px 1px rgba(0, 0, 0, 0.15);\n",
              "      filter: drop-shadow(0px 1px 2px rgba(0, 0, 0, 0.3));\n",
              "      fill: #FFFFFF;\n",
              "    }\n",
              "  </style>\n",
              "\n",
              "    <script>\n",
              "      const buttonEl =\n",
              "        document.querySelector('#df-0bdaab0f-fc1a-4d18-94bd-855c597190c3 button.colab-df-convert');\n",
              "      buttonEl.style.display =\n",
              "        google.colab.kernel.accessAllowed ? 'block' : 'none';\n",
              "\n",
              "      async function convertToInteractive(key) {\n",
              "        const element = document.querySelector('#df-0bdaab0f-fc1a-4d18-94bd-855c597190c3');\n",
              "        const dataTable =\n",
              "          await google.colab.kernel.invokeFunction('convertToInteractive',\n",
              "                                                    [key], {});\n",
              "        if (!dataTable) return;\n",
              "\n",
              "        const docLinkHtml = 'Like what you see? Visit the ' +\n",
              "          '<a target=\"_blank\" href=https://colab.research.google.com/notebooks/data_table.ipynb>data table notebook</a>'\n",
              "          + ' to learn more about interactive tables.';\n",
              "        element.innerHTML = '';\n",
              "        dataTable['output_type'] = 'display_data';\n",
              "        await google.colab.output.renderOutput(dataTable, element);\n",
              "        const docLink = document.createElement('div');\n",
              "        docLink.innerHTML = docLinkHtml;\n",
              "        element.appendChild(docLink);\n",
              "      }\n",
              "    </script>\n",
              "  </div>\n",
              "\n",
              "\n",
              "<div id=\"df-0e5838c8-dd65-4a22-90e5-bdd494b3b9d6\">\n",
              "  <button class=\"colab-df-quickchart\" onclick=\"quickchart('df-0e5838c8-dd65-4a22-90e5-bdd494b3b9d6')\"\n",
              "            title=\"Suggest charts\"\n",
              "            style=\"display:none;\">\n",
              "\n",
              "<svg xmlns=\"http://www.w3.org/2000/svg\" height=\"24px\"viewBox=\"0 0 24 24\"\n",
              "     width=\"24px\">\n",
              "    <g>\n",
              "        <path d=\"M19 3H5c-1.1 0-2 .9-2 2v14c0 1.1.9 2 2 2h14c1.1 0 2-.9 2-2V5c0-1.1-.9-2-2-2zM9 17H7v-7h2v7zm4 0h-2V7h2v10zm4 0h-2v-4h2v4z\"/>\n",
              "    </g>\n",
              "</svg>\n",
              "  </button>\n",
              "\n",
              "<style>\n",
              "  .colab-df-quickchart {\n",
              "      --bg-color: #E8F0FE;\n",
              "      --fill-color: #1967D2;\n",
              "      --hover-bg-color: #E2EBFA;\n",
              "      --hover-fill-color: #174EA6;\n",
              "      --disabled-fill-color: #AAA;\n",
              "      --disabled-bg-color: #DDD;\n",
              "  }\n",
              "\n",
              "  [theme=dark] .colab-df-quickchart {\n",
              "      --bg-color: #3B4455;\n",
              "      --fill-color: #D2E3FC;\n",
              "      --hover-bg-color: #434B5C;\n",
              "      --hover-fill-color: #FFFFFF;\n",
              "      --disabled-bg-color: #3B4455;\n",
              "      --disabled-fill-color: #666;\n",
              "  }\n",
              "\n",
              "  .colab-df-quickchart {\n",
              "    background-color: var(--bg-color);\n",
              "    border: none;\n",
              "    border-radius: 50%;\n",
              "    cursor: pointer;\n",
              "    display: none;\n",
              "    fill: var(--fill-color);\n",
              "    height: 32px;\n",
              "    padding: 0;\n",
              "    width: 32px;\n",
              "  }\n",
              "\n",
              "  .colab-df-quickchart:hover {\n",
              "    background-color: var(--hover-bg-color);\n",
              "    box-shadow: 0 1px 2px rgba(60, 64, 67, 0.3), 0 1px 3px 1px rgba(60, 64, 67, 0.15);\n",
              "    fill: var(--button-hover-fill-color);\n",
              "  }\n",
              "\n",
              "  .colab-df-quickchart-complete:disabled,\n",
              "  .colab-df-quickchart-complete:disabled:hover {\n",
              "    background-color: var(--disabled-bg-color);\n",
              "    fill: var(--disabled-fill-color);\n",
              "    box-shadow: none;\n",
              "  }\n",
              "\n",
              "  .colab-df-spinner {\n",
              "    border: 2px solid var(--fill-color);\n",
              "    border-color: transparent;\n",
              "    border-bottom-color: var(--fill-color);\n",
              "    animation:\n",
              "      spin 1s steps(1) infinite;\n",
              "  }\n",
              "\n",
              "  @keyframes spin {\n",
              "    0% {\n",
              "      border-color: transparent;\n",
              "      border-bottom-color: var(--fill-color);\n",
              "      border-left-color: var(--fill-color);\n",
              "    }\n",
              "    20% {\n",
              "      border-color: transparent;\n",
              "      border-left-color: var(--fill-color);\n",
              "      border-top-color: var(--fill-color);\n",
              "    }\n",
              "    30% {\n",
              "      border-color: transparent;\n",
              "      border-left-color: var(--fill-color);\n",
              "      border-top-color: var(--fill-color);\n",
              "      border-right-color: var(--fill-color);\n",
              "    }\n",
              "    40% {\n",
              "      border-color: transparent;\n",
              "      border-right-color: var(--fill-color);\n",
              "      border-top-color: var(--fill-color);\n",
              "    }\n",
              "    60% {\n",
              "      border-color: transparent;\n",
              "      border-right-color: var(--fill-color);\n",
              "    }\n",
              "    80% {\n",
              "      border-color: transparent;\n",
              "      border-right-color: var(--fill-color);\n",
              "      border-bottom-color: var(--fill-color);\n",
              "    }\n",
              "    90% {\n",
              "      border-color: transparent;\n",
              "      border-bottom-color: var(--fill-color);\n",
              "    }\n",
              "  }\n",
              "</style>\n",
              "\n",
              "  <script>\n",
              "    async function quickchart(key) {\n",
              "      const quickchartButtonEl =\n",
              "        document.querySelector('#' + key + ' button');\n",
              "      quickchartButtonEl.disabled = true;  // To prevent multiple clicks.\n",
              "      quickchartButtonEl.classList.add('colab-df-spinner');\n",
              "      try {\n",
              "        const charts = await google.colab.kernel.invokeFunction(\n",
              "            'suggestCharts', [key], {});\n",
              "      } catch (error) {\n",
              "        console.error('Error during call to suggestCharts:', error);\n",
              "      }\n",
              "      quickchartButtonEl.classList.remove('colab-df-spinner');\n",
              "      quickchartButtonEl.classList.add('colab-df-quickchart-complete');\n",
              "    }\n",
              "    (() => {\n",
              "      let quickchartButtonEl =\n",
              "        document.querySelector('#df-0e5838c8-dd65-4a22-90e5-bdd494b3b9d6 button');\n",
              "      quickchartButtonEl.style.display =\n",
              "        google.colab.kernel.accessAllowed ? 'block' : 'none';\n",
              "    })();\n",
              "  </script>\n",
              "</div>\n",
              "\n",
              "    </div>\n",
              "  </div>\n"
            ],
            "application/vnd.google.colaboratory.intrinsic+json": {
              "type": "dataframe",
              "variable_name": "csv_files",
              "summary": "{\n  \"name\": \"csv_files\",\n  \"rows\": 85,\n  \"fields\": [\n    {\n      \"column\": \"My name is John Stone, I am coming from New York to Timehri airport.\",\n      \"properties\": {\n        \"dtype\": \"string\",\n        \"num_unique_values\": 85,\n        \"samples\": [\n          \"Good evening, I'm Richard, and I'll be visiting your country for a photography expedition.\",\n          \"Sure thing. I am 27, my itinerary is 1234, I am American and I'll be here for 2 weeks.\",\n          \"Greetings! I'm Emma Wilson, 35, from Toronto, Canada. I'm flying from Toronto Pearson International Airport (YYZ) to Sydney (SYD) for a family reunion. My itinerary number is 9012, and I'll be in Sydney for two weeks.\"\n        ],\n        \"semantic_type\": \"\",\n        \"description\": \"\"\n      }\n    },\n    {\n      \"column\": \"Name: John Stone, Age: , Itinerary: , From: New York, Destination: Timehri, Nationality: , Length of Stay: \",\n      \"properties\": {\n        \"dtype\": \"string\",\n        \"num_unique_values\": 80,\n        \"samples\": [\n          \"Name:Emily Johnson, Age:25 , Itinerary:5678, From:Australia, Destination: Queenstown, Nationality:Australian , Length of Stay:1 week\",\n          \"Name: John Stone, Age: 27, Itinerary: 1234, From: New York, Destination: Timehri, Nationality: American, Length of Stay: 2 Weeks\",\n          \"Name:Miguel Hernandez, Age:30 , Itinerary:0987, From:Mexico, Destination: Tokyo, Nationality:Mexican , Length of Stay:10 days\"\n        ],\n        \"semantic_type\": \"\",\n        \"description\": \"\"\n      }\n    }\n  ]\n}"
            }
          },
          "metadata": {},
          "execution_count": 1
        }
      ]
    },
    {
      "cell_type": "code",
      "source": [
        "def list_extracted_entities(dataframe, max_rows, index):\n",
        "  #index is whether you want column 0 (prompts) or column 1 (extractions)\n",
        "    values = dataframe.iloc[0:max_rows, index].values\n",
        "    return values\n",
        "\n",
        "list_extracted_entities(csv_files, 20, 1)"
      ],
      "metadata": {
        "colab": {
          "base_uri": "https://localhost:8080/"
        },
        "id": "YuoQBmEHK1RT",
        "outputId": "481d4d83-8963-47ca-9bf7-904d1a024d96"
      },
      "execution_count": null,
      "outputs": [
        {
          "output_type": "execute_result",
          "data": {
            "text/plain": [
              "array(['Name: John Stone, Age: 27, Itinerary: 1234, From: New York, Destination: Timehri, Nationality: American, Length of Stay: 2 Weeks',\n",
              "       'Name: Jane Doe, Age: , Itinerary: , From: , Destination: , Nationality: , Length of Stay: ',\n",
              "       'Name: Jane Doe, Age: 19, Itinerary: 2190, From: Netherlands, Destination: Guyana, Nationality: Dutch, Length of Stay: Permanent',\n",
              "       'Name: , Age: , Itinerary: , From: London, Destination: Paris, Nationality: , Length of Stay: ',\n",
              "       'Name: , Age: 35, Itinerary: 5678, From: London, Destination: Paris, Nationality: , Length of Stay: 1 Week',\n",
              "       'Name: Mike Smith, Age: , Itinerary: , From: , Destination: Tokyo, Nationality: , Length of Stay: ',\n",
              "       'Name: , Age: 42, Itinerary: 9876, From: , Destination: Tokyo, Nationality: , Length of Stay: Conference Duration',\n",
              "       'Name: , Age: , Itinerary: , From: Sydney, Destination: Los Angeles, Nationality: , Length of Stay: ',\n",
              "       'Name: , Age: 30, Itinerary: 3456, From: Sydney, Destination: Los Angeles, Nationality: , Length of Stay: Holiday Duration',\n",
              "       'Name: John Smith, Age: 35, Itinerary: , From: San Francisco, Destination: Tokyo, Nationality: , Length of Stay: Conference Duration',\n",
              "       'Name: , Age: , Itinerary: 1234, From: , Destination: Tokyo, Nationality: , Length of Stay: 5 Days',\n",
              "       'Name: Alice Johnson, Age: 28, Itinerary: , From: Paris, Destination: Rome, Nationality: , Length of Stay: Exhibition Duration',\n",
              "       'Name:, Age: , Itinerary: 5678, From: Paris, Destination: Rome, Nationality: , Length of Stay: 1 Week',\n",
              "       'Name: Mark Davis, Age: 40, Itinerary: , From: New York, Destination: London, Nationality: , Length of Stay: Meeting Duration',\n",
              "       'Name:, Age: , Itinerary: 9012, From:, Destination: London, Nationality: , Length of Stay: 3 Days',\n",
              "       'Name:Edward Elric, Age:19 , Itinerary:, From:United Kingdom, Destination: Spain, Nationality:British , Length of Stay:1 week',\n",
              "       'Name:Alice Johnson, Age:35 , Itinerary:, From:United States, Destination: Japan, Nationality:American , Length of Stay:2 weeks',\n",
              "       'Name:Juan Martinez, Age:28 , Itinerary:, From:Mexico, Destination: France, Nationality:Mexican , Length of Stay:10 days',\n",
              "       'Name:Emily Wang, Age:25 , Itinerary:, From:Canada, Destination: Australia, Nationality:Canadian , Length of Stay:3 weeks',\n",
              "       'Name:Sarah Patel, Age:35 , Itinerary:2392, From:United Kingdom, Destination: New York, Nationality:British , Length of Stay:4 days'],\n",
              "      dtype=object)"
            ]
          },
          "metadata": {},
          "execution_count": 2
        }
      ]
    },
    {
      "cell_type": "code",
      "source": [
        "def output_parser(response): #this splits the csv output given by the model into dictionary (JSON)\n",
        "    pairs = response.split(\", \")\n",
        "    parsed_data = {}\n",
        "    for pair in pairs:\n",
        "        if \":\" in pair:\n",
        "            try:\n",
        "                key, value = pair.split(\":\", 1)  # Split only once\n",
        "                parsed_data[key.strip()] = [value.strip()]\n",
        "            except ValueError:\n",
        "                print(\"Error: Unable to split pair:\", pair)\n",
        "        else:\n",
        "            print(\"Warning: Pair does not contain colon:\", pair)\n",
        "    return parsed_data\n",
        "\n",
        "data = pd.DataFrame(output_parser(\"Name:Sarah Patel, Age:35 , Itinerary:2392, From: United Kingdom, Destination: New York, Nationality:British , Length of Stay:4 days\"))\n",
        "print(data)"
      ],
      "metadata": {
        "id": "MYaMjRzkLvJH",
        "colab": {
          "base_uri": "https://localhost:8080/"
        },
        "outputId": "48e369cb-a3f3-4482-b91f-e224af8c62b7"
      },
      "execution_count": null,
      "outputs": [
        {
          "output_type": "stream",
          "name": "stdout",
          "text": [
            "          Name Age Itinerary            From Destination Nationality  \\\n",
            "0  Sarah Patel  35      2392  United Kingdom    New York     British   \n",
            "\n",
            "  Length of Stay  \n",
            "0         4 days  \n"
          ]
        }
      ]
    },
    {
      "cell_type": "code",
      "source": [
        "def dataframe_compiler(dataframe, max_rows):\n",
        "    compiled_dataframe = pd.DataFrame(columns=['Name','Age','Itinerary','From','Destination','Nationality','Length of Stay'])\n",
        "    parsed_extracted_entities = list_extracted_entities(dataframe, max_rows,index=1)\n",
        "    for value in parsed_extracted_entities:\n",
        "      parsed_value = pd.DataFrame(output_parser(value))\n",
        "      compiled_dataframe = pd.concat([compiled_dataframe, parsed_value], axis=0, ignore_index=True)  # Append parsed_value to compiled_dataframe\n",
        "    return compiled_dataframe\n",
        "\n",
        "\n",
        "dataframe_compiler(csv_files, 30)"
      ],
      "metadata": {
        "id": "YE4ema-VWX4k"
      },
      "execution_count": null,
      "outputs": []
    },
    {
      "cell_type": "code",
      "source": [
        "dfc=dataframe_compiler(csv_files, 30)\n",
        "dfc.to_excel(\"excel_file.xlsx\")"
      ],
      "metadata": {
        "id": "7P5GRPx_wFjY"
      },
      "execution_count": null,
      "outputs": []
    },
    {
      "cell_type": "code",
      "source": [],
      "metadata": {
        "id": "cCNn0Xu5wpf5"
      },
      "execution_count": null,
      "outputs": []
    }
  ]
}
